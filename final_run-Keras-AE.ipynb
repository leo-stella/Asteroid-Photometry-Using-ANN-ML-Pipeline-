{
 "cells": [
  {
   "cell_type": "markdown",
   "metadata": {},
   "source": [
    "#### Loading packages"
   ]
  },
  {
   "cell_type": "code",
   "execution_count": 22,
   "metadata": {},
   "outputs": [],
   "source": [
    "import torch\n",
    "from astropy.io import fits\n",
    "import glob\n",
    "import numpy as np\n",
    "import pandas as pd"
   ]
  },
  {
   "cell_type": "code",
   "execution_count": 23,
   "metadata": {},
   "outputs": [
    {
     "name": "stdout",
     "output_type": "stream",
     "text": [
      "cpu\n"
     ]
    }
   ],
   "source": [
    "if (torch.cuda.is_available()):\n",
    "    device = torch.device('cuda')\n",
    "else:\n",
    "    device = torch.device('cpu')\n",
    "\n",
    "print(device)\n",
    "\n",
    "# intel HD does not support CUDA"
   ]
  },
  {
   "cell_type": "code",
   "execution_count": 24,
   "metadata": {},
   "outputs": [],
   "source": [
    "# classical approach to compare with ANN\n",
    "def rolo_b_me(alpha, emission, incidence):\n",
    "    '''\n",
    "    Here we obtain the reflectance for any photometric angle (using degrees as input)  \n",
    "    according to our classic photometric modeling. This model consists of the Sommel-Seeliger \n",
    "    disk function and ROLO as a phase function.\n",
    "\n",
    "    Use example: for phase=30º, emission=0º and incidence=30º - ipwg(30, 0, 30)\n",
    "    \n",
    "    Inputs: phase, emission and incidence angles\n",
    "    Output: reflectance\n",
    "    '''\n",
    "    # parameters\n",
    "    C_0, C_1, A_0, A_1, A_2, A_3, A_4=np.loadtxt('parameters.txt')  \n",
    "    \n",
    "    # converting degrees to radians:\n",
    "    emission=np.deg2rad(emission)    \n",
    "    incidence=np.deg2rad(incidence)\n",
    "    \n",
    "    # computing reflectance according to this photometric model:\n",
    "    disk = (np.cos(incidence)/(np.cos(incidence)+np.cos(emission)))\n",
    "    phase = C_0*np.exp(-C_1*alpha) + A_0 + A_1*alpha + A_2*(alpha)**2 + A_3*(alpha)**3  + A_4*(alpha)**4 \n",
    "    \n",
    "    reflectance = disk * phase\n",
    "    \n",
    "    return reflectance"
   ]
  },
  {
   "cell_type": "code",
   "execution_count": 25,
   "metadata": {},
   "outputs": [],
   "source": [
    "def data_preparation(ID):\n",
    "    '''\n",
    "     Here we extract features and labels using the ID of each image.\n",
    "    Later we convert these data in the apropiate format for training or validation.\n",
    "    It calls to data_normalization() function.\n",
    "    '''\n",
    "    \n",
    "    iof_n, phase_n, emission_n, incidence_n = data_normalization(ID)\n",
    "    \n",
    "    \n",
    "    # packing data\n",
    "    features = np.zeros((len(phase_n),3)) \n",
    "    features[:,0] = phase_n\n",
    "    features[:,1] = emission_n\n",
    "    features[:,2] = incidence_n\n",
    "    \n",
    "    features = torch.FloatTensor(features)\n",
    "    features = features.to(device)\n",
    "    \n",
    "    labels = np.zeros((len(iof_n),1))\n",
    "    labels[:,0] = iof_n\n",
    "    \n",
    "    labels = torch.FloatTensor(labels)\n",
    "    labels = labels.to(device)\n",
    "    \n",
    "    return features, labels"
   ]
  },
  {
   "cell_type": "code",
   "execution_count": 26,
   "metadata": {},
   "outputs": [],
   "source": [
    "def data_normalization(ID):\n",
    "    '''\n",
    "    In this function we rescale data between 0 and 1, a very important step before trainning a neural network.\n",
    "    It calls to loading_and_cleaning_data() function.\n",
    "    '''\n",
    "    iof_, phase_, emission_, incidence_ = loading_and_cleaning_data(ID)\n",
    "       \n",
    "    #normalizing data\n",
    "    iof_n=iof_/0.06; phase_n=phase_/90; emission_n=emission_/82; incidence_n=incidence_/82\n",
    "\n",
    "    return iof_n, phase_n, emission_n, incidence_n"
   ]
  },
  {
   "cell_type": "code",
   "execution_count": 27,
   "metadata": {},
   "outputs": [],
   "source": [
    "def loading_and_cleaning_data(ID):\n",
    "    '''\n",
    "    This function is for loading iof, phase, emission, incidence values for each image. \n",
    "    '''\n",
    "    #criterion for removing data:\n",
    "    em, eM = (0, 82)        # emission limits  \n",
    "    im, iM = (0, 82)          # incidence limits\n",
    "    pm, pM = (0, 90)       # phase limits\n",
    "    rm, rM =  (0.001,1)  # reflectance higher limits\n",
    "    \n",
    "    fits_file = fits.getdata(ID, ignore_missing_end=True)\n",
    "    \n",
    "    iof = fits_file[0]\n",
    "    phase = fits_file[1]\n",
    "    emission = fits_file[2]\n",
    "    incidence = fits_file[3]\n",
    "    \n",
    "    idxsort = (emission >= em) & (emission <= eM) & \\\n",
    "              (incidence >= im) & (incidence <= iM) & \\\n",
    "              (phase >= pm) & (phase <= pM) & \\\n",
    "              (iof >= rm) & (iof <= rM) \n",
    "    \n",
    "    return iof[idxsort], phase[idxsort], emission[idxsort], incidence[idxsort] "
   ]
  },
  {
   "cell_type": "code",
   "execution_count": 28,
   "metadata": {},
   "outputs": [],
   "source": [
    "# loading ID list of files:\n",
    "files_ID=[]\n",
    "for i in sorted(glob.glob('reduced_phocubes/*reduce.fits')):\n",
    "    files_ID.append(i)"
   ]
  },
  {
   "cell_type": "code",
   "execution_count": 29,
   "metadata": {},
   "outputs": [
    {
     "data": {
      "text/plain": [
       "951"
      ]
     },
     "execution_count": 29,
     "metadata": {},
     "output_type": "execute_result"
    }
   ],
   "source": [
    "len(files_ID)"
   ]
  },
  {
   "cell_type": "markdown",
   "metadata": {},
   "source": [
    "#### Preparing training and validation data"
   ]
  },
  {
   "cell_type": "code",
   "execution_count": 30,
   "metadata": {},
   "outputs": [],
   "source": [
    "import random\n",
    "# defining global tensors \n",
    "\n",
    "final_training_features = torch.zeros(0)\n",
    "final_training_labels = torch.zeros(0)\n",
    "final_validation_features = torch.zeros(0)\n",
    "final_validation_labels = torch.zeros(0)\n",
    "\n",
    "final_training_features = final_training_features.to(device)\n",
    "final_training_labels = final_training_labels.to(device)\n",
    "final_validation_features = final_validation_features.to(device)\n",
    "final_validation_labels = final_validation_labels.to(device)\n",
    "\n",
    "for file in files_ID:\n",
    "    \n",
    "    # loading training data from files_ID list\n",
    "    _features, _labels = data_preparation(file)\n",
    "    if len(_features) != 0:\n",
    "        np.random.seed(10)\n",
    "        # Selecting 1000 random values of this image\n",
    "        try:\n",
    "            mask_temp = np.random.choice(len(_features),1000,replace=False)\n",
    "        \n",
    "        except:\n",
    "            mask_temp = np.random.choice(len(_features),len(_features),replace=False)\n",
    "        \n",
    "        split = int(len(mask_temp)*(9/10))\n",
    "        mask_train = mask_temp[0:split]\n",
    "        mask_val = mask_temp[split:]\n",
    "        \n",
    "        training_features =  _features[mask_train]\n",
    "        final_training_features = torch.cat([final_training_features,training_features])\n",
    "        \n",
    "        training_labels = _labels[mask_train]\n",
    "        final_training_labels = torch.cat([final_training_labels,training_labels])\n",
    "\n",
    "        # Selecting 10% random values of this image\n",
    "        \n",
    "        validation_features =  _features[mask_val]\n",
    "        final_validation_features=torch.cat([final_validation_features,validation_features])\n",
    "\n",
    "        validation_labels = _labels[mask_val]\n",
    "        final_validation_labels=torch.cat([final_validation_labels,validation_labels])"
   ]
  },
  {
   "cell_type": "code",
   "execution_count": 31,
   "metadata": {},
   "outputs": [
    {
     "name": "stdout",
     "output_type": "stream",
     "text": [
      "tensor(0.0044)\n"
     ]
    }
   ],
   "source": [
    "#ROLO eficciency using MSE:\n",
    "phase=final_validation_features.cpu().numpy()[:,0]*90\n",
    "emission=final_validation_features.cpu().numpy()[:,1]*82\n",
    "incidence=final_validation_features.cpu().numpy()[:,2]*82\n",
    "prediction_ROLO=torch.tensor(rolo_b_me(phase, emission, incidence)/0.06).to(device)\n",
    "eff_ROLO=torch.mean((prediction_ROLO-final_validation_labels.t())**2)\n",
    "print(eff_ROLO)"
   ]
  },
  {
   "cell_type": "code",
   "execution_count": 32,
   "metadata": {},
   "outputs": [
    {
     "name": "stdout",
     "output_type": "stream",
     "text": [
      "417025 46480\n"
     ]
    }
   ],
   "source": [
    "print(len(final_training_features), len(final_validation_features))\n",
    "final_training_features = final_training_features.numpy()\n",
    "final_validation_features = final_validation_features.numpy()"
   ]
  },
  {
   "cell_type": "code",
   "execution_count": 33,
   "metadata": {},
   "outputs": [
    {
     "name": "stdout",
     "output_type": "stream",
     "text": [
      "Epoch 1/20\n",
      "418/418 [==============================] - 4s 6ms/step - loss: 0.0088 - accuracy: 0.8435 - val_loss: 2.6698e-04 - val_accuracy: 0.9718\n",
      "Epoch 2/20\n",
      "418/418 [==============================] - 2s 6ms/step - loss: 1.5683e-04 - accuracy: 0.9758 - val_loss: 1.0369e-04 - val_accuracy: 0.9826\n",
      "Epoch 3/20\n",
      "418/418 [==============================] - 2s 6ms/step - loss: 6.4331e-05 - accuracy: 0.9816 - val_loss: 5.0152e-05 - val_accuracy: 0.9750\n",
      "Epoch 4/20\n",
      "418/418 [==============================] - 3s 7ms/step - loss: 4.3965e-05 - accuracy: 0.9809 - val_loss: 3.7072e-05 - val_accuracy: 0.9818\n",
      "Epoch 5/20\n",
      "418/418 [==============================] - 3s 7ms/step - loss: 3.5506e-05 - accuracy: 0.9818 - val_loss: 3.0966e-05 - val_accuracy: 0.9823\n",
      "Epoch 6/20\n",
      "418/418 [==============================] - 4s 10ms/step - loss: 3.0876e-05 - accuracy: 0.9813 - val_loss: 4.5476e-05 - val_accuracy: 0.9540\n",
      "Epoch 7/20\n",
      "418/418 [==============================] - 5s 12ms/step - loss: 2.7086e-05 - accuracy: 0.9820 - val_loss: 2.4795e-05 - val_accuracy: 0.9721\n",
      "Epoch 8/20\n",
      "418/418 [==============================] - 7s 16ms/step - loss: 2.4156e-05 - accuracy: 0.9819 - val_loss: 3.2460e-05 - val_accuracy: 0.9644\n",
      "Epoch 9/20\n",
      "418/418 [==============================] - 6s 14ms/step - loss: 2.2800e-05 - accuracy: 0.9823 - val_loss: 2.8925e-05 - val_accuracy: 0.9833\n",
      "Epoch 10/20\n",
      "418/418 [==============================] - 5s 12ms/step - loss: 2.1233e-05 - accuracy: 0.9817 - val_loss: 1.8058e-05 - val_accuracy: 0.9866\n",
      "Epoch 11/20\n",
      "418/418 [==============================] - 6s 13ms/step - loss: 2.0277e-05 - accuracy: 0.9826 - val_loss: 1.9904e-05 - val_accuracy: 0.9861\n",
      "Epoch 12/20\n",
      "418/418 [==============================] - 6s 14ms/step - loss: 1.9539e-05 - accuracy: 0.9827 - val_loss: 1.3442e-05 - val_accuracy: 0.9872\n",
      "Epoch 13/20\n",
      "418/418 [==============================] - 5s 12ms/step - loss: 1.7836e-05 - accuracy: 0.9836 - val_loss: 1.4892e-05 - val_accuracy: 0.9869\n",
      "Epoch 14/20\n",
      "418/418 [==============================] - 5s 12ms/step - loss: 1.7560e-05 - accuracy: 0.9833 - val_loss: 2.2834e-05 - val_accuracy: 0.9838\n",
      "Epoch 15/20\n",
      "418/418 [==============================] - 3s 7ms/step - loss: 1.6678e-05 - accuracy: 0.9832 - val_loss: 1.4526e-05 - val_accuracy: 0.9861\n",
      "Epoch 16/20\n",
      "418/418 [==============================] - 3s 7ms/step - loss: 1.7107e-05 - accuracy: 0.9836 - val_loss: 1.9014e-05 - val_accuracy: 0.9810\n",
      "Epoch 17/20\n",
      "418/418 [==============================] - 3s 8ms/step - loss: 1.5739e-05 - accuracy: 0.9837 - val_loss: 1.2323e-05 - val_accuracy: 0.9874\n",
      "Epoch 18/20\n",
      "418/418 [==============================] - 3s 7ms/step - loss: 1.5512e-05 - accuracy: 0.9836 - val_loss: 2.6741e-05 - val_accuracy: 0.9656\n",
      "Epoch 19/20\n",
      "418/418 [==============================] - 2s 5ms/step - loss: 1.5044e-05 - accuracy: 0.9841 - val_loss: 2.5783e-05 - val_accuracy: 0.9847\n",
      "Epoch 20/20\n",
      "418/418 [==============================] - 3s 7ms/step - loss: 1.5240e-05 - accuracy: 0.9837 - val_loss: 1.9815e-05 - val_accuracy: 0.9803\n",
      "Model: \"autoencoder_1\"\n",
      "_________________________________________________________________\n",
      " Layer (type)                Output Shape              Param #   \n",
      "=================================================================\n",
      " sequential_3 (Sequential)   (None, 9)                 5001      \n",
      "                                                                 \n",
      " sequential_4 (Sequential)   (None, 3)                 4995      \n",
      "                                                                 \n",
      "=================================================================\n",
      "Total params: 9,996\n",
      "Trainable params: 9,996\n",
      "Non-trainable params: 0\n",
      "_________________________________________________________________\n"
     ]
    }
   ],
   "source": [
    "import tensorflow as tf\n",
    "from sklearn.metrics import accuracy_score, precision_score ,recall_score\n",
    "from tensorflow.keras import layers,losses\n",
    "from tensorflow.keras.models import Model\n",
    "from tensorflow.keras.losses import MeanSquaredError\n",
    "\n",
    "tf.random.set_seed(1)\n",
    "\n",
    "class Autoencoder(Model):\n",
    "    def __init__(self,latent_dim=9):\n",
    "        super(Autoencoder,self).__init__()\n",
    "        self.latent_dim=9\n",
    "        self.encoder=tf.keras.Sequential([\n",
    "            layers.Dense(64,activation=\"relu\"),\n",
    "            layers.Dense(64,activation=\"relu\"),\n",
    "            layers.Dense(latent_dim,activation=\"relu\")])\n",
    "        \n",
    "        self.decoder=tf.keras.Sequential([\n",
    "            layers.Dense(64,activation=\"relu\"),\n",
    "            layers.Dense(64,activation=\"relu\"),\n",
    "            layers.Dense(3,activation=\"sigmoid\")])\n",
    "        \n",
    "    def call(self,x):\n",
    "        encoded=self.encoder(x)\n",
    "        decoded=self.decoder(encoded)\n",
    "        return decoded\n",
    "\n",
    "autoencoder=Autoencoder()\n",
    "autoencoder.compile(loss='mse', optimizer='adam', metrics=['accuracy'])\n",
    "autoencoder.fit(final_training_features,final_training_features, \n",
    "                validation_data=(final_validation_features, final_validation_features), epochs=20, batch_size=1000)\n",
    "\n",
    "autoencoder.summary()\n"
   ]
  },
  {
   "cell_type": "code",
   "execution_count": 34,
   "metadata": {},
   "outputs": [
    {
     "name": "stdout",
     "output_type": "stream",
     "text": [
      "(417025, 9)\n",
      "(46480, 9)\n",
      "(417025, 12)\n",
      "(46480, 12)\n"
     ]
    }
   ],
   "source": [
    "x_training_encoded = autoencoder.encoder(final_training_features).numpy()\n",
    "x_vaidation_encoded = autoencoder.encoder(final_validation_features).numpy()\n",
    "\n",
    "print(x_training_encoded.shape)\n",
    "print(x_vaidation_encoded.shape)\n",
    "\n",
    "import numpy as np\n",
    "x_training_concat = np.concatenate((final_training_features, x_training_encoded), axis = 1)\n",
    "x_validation_concat = np.concatenate((final_validation_features, x_vaidation_encoded), axis = 1)\n",
    "\n",
    "print(x_training_concat.shape)\n",
    "print(x_validation_concat.shape)\n"
   ]
  },
  {
   "cell_type": "code",
   "execution_count": 35,
   "metadata": {},
   "outputs": [
    {
     "name": "stdout",
     "output_type": "stream",
     "text": [
      "2\n"
     ]
    }
   ],
   "source": [
    "def correlated_features(data,threshold):\n",
    "    corr_col=set()\n",
    "    confusion=data.corr()\n",
    "    for i in range(confusion.shape[0]):\n",
    "        for j in range(i): \n",
    "             if confusion.iloc[i,j]>threshold:\n",
    "                    corr_col.add(confusion.columns[i])\n",
    "    return corr_col\n",
    "\n",
    "pd_x_training_concat = pd.DataFrame (x_training_concat)\n",
    "pd_x_validation_concat = pd.DataFrame (x_validation_concat)\n",
    "\n",
    "corr_features= correlated_features(pd_x_training_concat , 0.9)\n",
    "print(len(corr_features))\n",
    "\n",
    "x_training_corr = pd_x_training_concat.drop(corr_features,axis=1)\n",
    "x_validation_corr = pd_x_validation_concat.drop(corr_features,axis=1)"
   ]
  },
  {
   "cell_type": "code",
   "execution_count": 36,
   "metadata": {},
   "outputs": [
    {
     "data": {
      "image/png": "[encoded data removed]",
      "text/plain": [
       "<Figure size 432x288 with 1 Axes>"
      ]
     },
     "metadata": {
      "needs_background": "light"
     },
     "output_type": "display_data"
    }
   ],
   "source": [
    "from sklearn.decomposition import PCA\n",
    "import matplotlib.pyplot as plt\n",
    "pca = PCA()\n",
    "pca.fit(x_training_corr)\n",
    "plt.figure()\n",
    "plt.plot(np.cumsum(pca.explained_variance_ratio_))\n",
    "plt.xlabel('Principal Components')\n",
    "plt.ylabel('Explained Variance')  \n",
    "plt.title('Explained Variance per Principal Components ')\n",
    "plt.show(block=True)"
   ]
  },
  {
   "cell_type": "code",
   "execution_count": 37,
   "metadata": {},
   "outputs": [
    {
     "name": "stdout",
     "output_type": "stream",
     "text": [
      "(417025, 3)\n"
     ]
    }
   ],
   "source": [
    "pca = PCA(n_components=3)\n",
    "x_training_pca = pca.fit_transform(x_training_corr)\n",
    "x_validation_pca = pca.fit_transform(x_validation_corr)\n",
    "print(x_training_pca.shape)"
   ]
  },
  {
   "cell_type": "code",
   "execution_count": 38,
   "metadata": {},
   "outputs": [],
   "source": [
    "finall_training_features = tf.convert_to_tensor(x_training_pca)\n",
    "finall_validation_features = tf.convert_to_tensor(x_validation_pca)"
   ]
  },
  {
   "cell_type": "code",
   "execution_count": 39,
   "metadata": {},
   "outputs": [],
   "source": [
    "import tensorflow as tf\n",
    "input_size = 3\n",
    "finall_training_labels = tf.convert_to_tensor(final_training_labels)\n",
    "finall_validation_labels =  tf.convert_to_tensor(final_validation_labels)"
   ]
  },
  {
   "cell_type": "markdown",
   "metadata": {},
   "source": [
    "#### Setting up and defining a neural network"
   ]
  },
  {
   "cell_type": "code",
   "execution_count": 40,
   "metadata": {
    "scrolled": false
   },
   "outputs": [
    {
     "name": "stdout",
     "output_type": "stream",
     "text": [
      "Epoch 1/20\n",
      "2086/2086 [==============================] - 11s 5ms/step - loss: 0.0048 - val_loss: 0.0037\n",
      "Epoch 2/20\n",
      "2086/2086 [==============================] - 11s 5ms/step - loss: 0.0037 - val_loss: 0.0037\n",
      "Epoch 3/20\n",
      "2086/2086 [==============================] - 13s 6ms/step - loss: 0.0036 - val_loss: 0.0037\n",
      "Epoch 4/20\n",
      "2086/2086 [==============================] - 9s 4ms/step - loss: 0.0036 - val_loss: 0.0036\n",
      "Epoch 5/20\n",
      "2086/2086 [==============================] - 7s 3ms/step - loss: 0.0036 - val_loss: 0.0036\n",
      "Epoch 6/20\n",
      "2086/2086 [==============================] - 8s 4ms/step - loss: 0.0036 - val_loss: 0.0036\n",
      "Epoch 7/20\n",
      "2086/2086 [==============================] - 9s 4ms/step - loss: 0.0036 - val_loss: 0.0036\n",
      "Epoch 8/20\n",
      "2086/2086 [==============================] - 7s 3ms/step - loss: 0.0036 - val_loss: 0.0036\n",
      "Epoch 9/20\n",
      "2086/2086 [==============================] - 6s 3ms/step - loss: 0.0036 - val_loss: 0.0038\n",
      "Epoch 10/20\n",
      "2086/2086 [==============================] - 6s 3ms/step - loss: 0.0035 - val_loss: 0.0036\n",
      "Epoch 11/20\n",
      "2086/2086 [==============================] - 12s 6ms/step - loss: 0.0035 - val_loss: 0.0036\n",
      "Epoch 12/20\n",
      "2086/2086 [==============================] - 11s 5ms/step - loss: 0.0035 - val_loss: 0.0036\n",
      "Epoch 13/20\n",
      "2086/2086 [==============================] - 8s 4ms/step - loss: 0.0035 - val_loss: 0.0036\n",
      "Epoch 14/20\n",
      "2086/2086 [==============================] - 9s 4ms/step - loss: 0.0035 - val_loss: 0.0036\n",
      "Epoch 15/20\n",
      "2086/2086 [==============================] - 12s 6ms/step - loss: 0.0035 - val_loss: 0.0036\n",
      "Epoch 16/20\n",
      "2086/2086 [==============================] - 13s 6ms/step - loss: 0.0035 - val_loss: 0.0037\n",
      "Epoch 17/20\n",
      "2086/2086 [==============================] - 14s 7ms/step - loss: 0.0035 - val_loss: 0.0036\n",
      "Epoch 18/20\n",
      "2086/2086 [==============================] - 9s 4ms/step - loss: 0.0035 - val_loss: 0.0036\n",
      "Epoch 19/20\n",
      "2086/2086 [==============================] - 6s 3ms/step - loss: 0.0035 - val_loss: 0.0036\n",
      "Epoch 20/20\n",
      "2086/2086 [==============================] - 7s 3ms/step - loss: 0.0035 - val_loss: 0.0036\n"
     ]
    }
   ],
   "source": [
    "from tensorflow.keras.models import Sequential\n",
    "from tensorflow.keras.layers import Dense\n",
    "import numpy\n",
    "\n",
    "numpy.random.seed(7)\n",
    "\n",
    "model = Sequential()\n",
    "model.add(Dense(30, input_shape=(input_size,), activation='relu'))\n",
    "model.add(Dense(30, activation='relu'))\n",
    "model.add(Dense(30, activation='relu'))\n",
    "model.add(Dense(30, activation='relu'))\n",
    "model.add(Dense(1, activation='sigmoid'))\n",
    "\n",
    "model.compile(loss='mse', optimizer='adam')\n",
    "\n",
    "modelfit = model.fit(finall_training_features, finall_training_labels, \n",
    "                     validation_data=(finall_validation_features, finall_validation_labels), epochs=20, batch_size=200)\n",
    "\n",
    "best_loss = modelfit.history['val_loss'][-1]\n"
   ]
  },
  {
   "cell_type": "code",
   "execution_count": 41,
   "metadata": {
    "scrolled": false
   },
   "outputs": [
    {
     "name": "stdout",
     "output_type": "stream",
     "text": [
      "tensor(0.0044)\n",
      "0.003584346268326044\n"
     ]
    }
   ],
   "source": [
    "print(eff_ROLO)\n",
    "print(best_loss)"
   ]
  },
  {
   "cell_type": "markdown",
   "metadata": {},
   "source": [
    "#### Improvement percentage"
   ]
  },
  {
   "cell_type": "code",
   "execution_count": 42,
   "metadata": {},
   "outputs": [
    {
     "name": "stdout",
     "output_type": "stream",
     "text": [
      "tensor(18.5595)\n"
     ]
    }
   ],
   "source": [
    "print((eff_ROLO - best_loss)*100/eff_ROLO)"
   ]
  },
  {
   "cell_type": "code",
   "execution_count": null,
   "metadata": {},
   "outputs": [],
   "source": []
  }
 ],
 "metadata": {
  "kernelspec": {
   "display_name": "Python 3",
   "language": "python",
   "name": "python3"
  },
  "language_info": {
   "codemirror_mode": {
    "name": "ipython",
    "version": 3
   },
   "file_extension": ".py",
   "mimetype": "text/x-python",
   "name": "python",
   "nbconvert_exporter": "python",
   "pygments_lexer": "ipython3",
   "version": "3.8.5"
  }
 },
 "nbformat": 4,
 "nbformat_minor": 4
}
