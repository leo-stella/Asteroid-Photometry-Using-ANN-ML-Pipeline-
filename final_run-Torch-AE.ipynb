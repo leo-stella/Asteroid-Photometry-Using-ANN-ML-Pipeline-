{
 "cells": [
  {
   "cell_type": "markdown",
   "metadata": {},
   "source": [
    "#### Loading packages"
   ]
  },
  {
   "cell_type": "code",
   "execution_count": 490,
   "metadata": {},
   "outputs": [],
   "source": [
    "import torch\n",
    "from astropy.io import fits\n",
    "import glob\n",
    "import numpy as np\n",
    "import pandas as pd"
   ]
  },
  {
   "cell_type": "code",
   "execution_count": 491,
   "metadata": {},
   "outputs": [
    {
     "name": "stdout",
     "output_type": "stream",
     "text": [
      "cpu\n"
     ]
    }
   ],
   "source": [
    "if (torch.cuda.is_available()):\n",
    "    device = torch.device('cuda')\n",
    "else:\n",
    "    device = torch.device('cpu')\n",
    "\n",
    "print(device)\n",
    "\n",
    "# intel HD does not support CUDA"
   ]
  },
  {
   "cell_type": "code",
   "execution_count": 492,
   "metadata": {},
   "outputs": [],
   "source": [
    "# classical approach to compare with ANN\n",
    "def rolo_b_me(alpha, emission, incidence):\n",
    "    '''\n",
    "    Here we obtain the reflectance for any photometric angle (using degrees as input)  \n",
    "    according to our classic photometric modeling. This model consists of the Sommel-Seeliger \n",
    "    disk function and ROLO as a phase function.\n",
    "\n",
    "    Use example: for phase=30º, emission=0º and incidence=30º - ipwg(30, 0, 30)\n",
    "    \n",
    "    Inputs: phase, emission and incidence angles\n",
    "    Output: reflectance\n",
    "    '''\n",
    "    # parameters\n",
    "    C_0, C_1, A_0, A_1, A_2, A_3, A_4=np.loadtxt('parameters.txt')  \n",
    "    \n",
    "    # converting degrees to radians:\n",
    "    emission=np.deg2rad(emission)    \n",
    "    incidence=np.deg2rad(incidence)\n",
    "    \n",
    "    # computing reflectance according to this photometric model:\n",
    "    disk = (np.cos(incidence)/(np.cos(incidence)+np.cos(emission)))\n",
    "    phase = C_0*np.exp(-C_1*alpha) + A_0 + A_1*alpha + A_2*(alpha)**2 + A_3*(alpha)**3  + A_4*(alpha)**4 \n",
    "    \n",
    "    reflectance = disk * phase\n",
    "    \n",
    "    return reflectance"
   ]
  },
  {
   "cell_type": "code",
   "execution_count": 493,
   "metadata": {},
   "outputs": [],
   "source": [
    "def data_preparation(ID):\n",
    "    '''\n",
    "     Here we extract features and labels using the ID of each image.\n",
    "    Later we convert these data in the apropiate format for training or validation.\n",
    "    It calls to data_normalization() function.\n",
    "    '''\n",
    "    \n",
    "    iof_n, phase_n, emission_n, incidence_n = data_normalization(ID)\n",
    "    \n",
    "    \n",
    "    # packing data\n",
    "    features = np.zeros((len(phase_n),3)) \n",
    "    features[:,0] = phase_n\n",
    "    features[:,1] = emission_n\n",
    "    features[:,2] = incidence_n\n",
    "    \n",
    "    features = torch.FloatTensor(features)\n",
    "    features = features.to(device)\n",
    "    \n",
    "    labels = np.zeros((len(iof_n),1))\n",
    "    labels[:,0] = iof_n\n",
    "    \n",
    "    labels = torch.FloatTensor(labels)\n",
    "    labels = labels.to(device)\n",
    "    \n",
    "    return features, labels"
   ]
  },
  {
   "cell_type": "code",
   "execution_count": 494,
   "metadata": {},
   "outputs": [],
   "source": [
    "def data_normalization(ID):\n",
    "    '''\n",
    "    In this function we rescale data between 0 and 1, a very important step before trainning a neural network.\n",
    "    It calls to loading_and_cleaning_data() function.\n",
    "    '''\n",
    "    iof_, phase_, emission_, incidence_ = loading_and_cleaning_data(ID)\n",
    "       \n",
    "    #normalizing data\n",
    "    iof_n=iof_/0.06; phase_n=phase_/90; emission_n=emission_/82; incidence_n=incidence_/82\n",
    "\n",
    "    return iof_n, phase_n, emission_n, incidence_n"
   ]
  },
  {
   "cell_type": "code",
   "execution_count": 495,
   "metadata": {},
   "outputs": [],
   "source": [
    "def loading_and_cleaning_data(ID):\n",
    "    '''\n",
    "    This function is for loading iof, phase, emission, incidence values for each image. \n",
    "    '''\n",
    "    #criterion for removing data:\n",
    "    em, eM = (0, 82)        # emission limits  \n",
    "    im, iM = (0, 82)          # incidence limits\n",
    "    pm, pM = (0, 90)       # phase limits\n",
    "    rm, rM =  (0.001,1)  # reflectance higher limits\n",
    "    \n",
    "    fits_file = fits.getdata(ID, ignore_missing_end=True)\n",
    "    \n",
    "    iof = fits_file[0]\n",
    "    phase = fits_file[1]\n",
    "    emission = fits_file[2]\n",
    "    incidence = fits_file[3]\n",
    "    \n",
    "    idxsort = (emission >= em) & (emission <= eM) & \\\n",
    "              (incidence >= im) & (incidence <= iM) & \\\n",
    "              (phase >= pm) & (phase <= pM) & \\\n",
    "              (iof >= rm) & (iof <= rM) \n",
    "    \n",
    "    return iof[idxsort], phase[idxsort], emission[idxsort], incidence[idxsort] "
   ]
  },
  {
   "cell_type": "code",
   "execution_count": 496,
   "metadata": {},
   "outputs": [],
   "source": [
    "# loading ID list of files:\n",
    "files_ID=[]\n",
    "for i in sorted(glob.glob('reduced_phocubes/*reduce.fits')):\n",
    "    files_ID.append(i)"
   ]
  },
  {
   "cell_type": "code",
   "execution_count": 497,
   "metadata": {},
   "outputs": [
    {
     "data": {
      "text/plain": [
       "951"
      ]
     },
     "execution_count": 497,
     "metadata": {},
     "output_type": "execute_result"
    }
   ],
   "source": [
    "len(files_ID)"
   ]
  },
  {
   "cell_type": "markdown",
   "metadata": {},
   "source": [
    "#### Preparing training and validation data"
   ]
  },
  {
   "cell_type": "code",
   "execution_count": 498,
   "metadata": {},
   "outputs": [],
   "source": [
    "import random\n",
    "# defining global tensors \n",
    "\n",
    "final_training_features = torch.zeros(0)\n",
    "final_training_labels = torch.zeros(0)\n",
    "final_validation_features = torch.zeros(0)\n",
    "final_validation_labels = torch.zeros(0)\n",
    "\n",
    "final_training_features = final_training_features.to(device)\n",
    "final_training_labels = final_training_labels.to(device)\n",
    "final_validation_features = final_validation_features.to(device)\n",
    "final_validation_labels = final_validation_labels.to(device)\n",
    "\n",
    "for file in files_ID:\n",
    "    \n",
    "    # loading training data from files_ID list\n",
    "    _features, _labels = data_preparation(file)\n",
    "    if len(_features) != 0:\n",
    "        np.random.seed(10)\n",
    "        # Selecting 1000 random values of this image\n",
    "        try:\n",
    "            mask_temp = np.random.choice(len(_features),1000,replace=False)\n",
    "        \n",
    "        except:\n",
    "            mask_temp = np.random.choice(len(_features),len(_features),replace=False)\n",
    "        \n",
    "        split = int(len(mask_temp)*(9/10))\n",
    "        mask_train = mask_temp[0:split]\n",
    "        mask_val = mask_temp[split:]\n",
    "        \n",
    "        training_features =  _features[mask_train]\n",
    "        final_training_features = torch.cat([final_training_features,training_features])\n",
    "        \n",
    "        training_labels = _labels[mask_train]\n",
    "        final_training_labels = torch.cat([final_training_labels,training_labels])\n",
    "\n",
    "        validation_features =  _features[mask_val]\n",
    "        final_validation_features=torch.cat([final_validation_features,validation_features])\n",
    "\n",
    "        validation_labels = _labels[mask_val]\n",
    "        final_validation_labels=torch.cat([final_validation_labels,validation_labels])"
   ]
  },
  {
   "cell_type": "markdown",
   "metadata": {},
   "source": [
    "#### ROLO eficciency using MSE:"
   ]
  },
  {
   "cell_type": "code",
   "execution_count": 499,
   "metadata": {},
   "outputs": [
    {
     "name": "stdout",
     "output_type": "stream",
     "text": [
      "tensor(0.0044)\n"
     ]
    }
   ],
   "source": [
    "#ROLO eficciency using MSE:\n",
    "phase=final_validation_features.cpu().numpy()[:,0]*90\n",
    "emission=final_validation_features.cpu().numpy()[:,1]*82\n",
    "incidence=final_validation_features.cpu().numpy()[:,2]*82\n",
    "prediction_ROLO=torch.tensor(rolo_b_me(phase, emission, incidence)/0.06).to(device)\n",
    "eff_ROLO=torch.mean((prediction_ROLO-final_validation_labels.t())**2)\n",
    "print(eff_ROLO)"
   ]
  },
  {
   "cell_type": "code",
   "execution_count": 500,
   "metadata": {},
   "outputs": [
    {
     "name": "stdout",
     "output_type": "stream",
     "text": [
      "417025 46480\n"
     ]
    }
   ],
   "source": [
    "print(len(final_training_features), len(final_validation_features))\n",
    "final_training_features = final_training_features.numpy()\n",
    "final_validation_features = final_validation_features.numpy()"
   ]
  },
  {
   "cell_type": "code",
   "execution_count": 501,
   "metadata": {},
   "outputs": [
    {
     "name": "stdout",
     "output_type": "stream",
     "text": [
      "Epoch 1/20\n",
      "418/418 [==============================] - 2s 4ms/step - loss: 0.0088 - accuracy: 0.8435 - val_loss: 2.6698e-04 - val_accuracy: 0.9718\n",
      "Epoch 2/20\n",
      "418/418 [==============================] - 2s 4ms/step - loss: 1.5683e-04 - accuracy: 0.9758 - val_loss: 1.0369e-04 - val_accuracy: 0.9826\n",
      "Epoch 3/20\n",
      "418/418 [==============================] - 2s 4ms/step - loss: 6.4331e-05 - accuracy: 0.9816 - val_loss: 5.0152e-05 - val_accuracy: 0.9750\n",
      "Epoch 4/20\n",
      "418/418 [==============================] - 2s 4ms/step - loss: 4.3965e-05 - accuracy: 0.9809 - val_loss: 3.7072e-05 - val_accuracy: 0.9818\n",
      "Epoch 5/20\n",
      "418/418 [==============================] - 2s 4ms/step - loss: 3.5506e-05 - accuracy: 0.9818 - val_loss: 3.0966e-05 - val_accuracy: 0.9823\n",
      "Epoch 6/20\n",
      "418/418 [==============================] - 2s 5ms/step - loss: 3.0876e-05 - accuracy: 0.9813 - val_loss: 4.5476e-05 - val_accuracy: 0.9540\n",
      "Epoch 7/20\n",
      "418/418 [==============================] - 2s 5ms/step - loss: 2.7086e-05 - accuracy: 0.9820 - val_loss: 2.4795e-05 - val_accuracy: 0.9721\n",
      "Epoch 8/20\n",
      "418/418 [==============================] - 2s 6ms/step - loss: 2.4156e-05 - accuracy: 0.9819 - val_loss: 3.2460e-05 - val_accuracy: 0.9644\n",
      "Epoch 9/20\n",
      "418/418 [==============================] - 2s 5ms/step - loss: 2.2800e-05 - accuracy: 0.9823 - val_loss: 2.8925e-05 - val_accuracy: 0.9833\n",
      "Epoch 10/20\n",
      "418/418 [==============================] - 2s 5ms/step - loss: 2.1233e-05 - accuracy: 0.9817 - val_loss: 1.8058e-05 - val_accuracy: 0.9866\n",
      "Epoch 11/20\n",
      "418/418 [==============================] - 2s 5ms/step - loss: 2.0277e-05 - accuracy: 0.9826 - val_loss: 1.9904e-05 - val_accuracy: 0.9861\n",
      "Epoch 12/20\n",
      "418/418 [==============================] - 2s 5ms/step - loss: 1.9539e-05 - accuracy: 0.9827 - val_loss: 1.3442e-05 - val_accuracy: 0.9872\n",
      "Epoch 13/20\n",
      "418/418 [==============================] - 2s 6ms/step - loss: 1.7836e-05 - accuracy: 0.9836 - val_loss: 1.4892e-05 - val_accuracy: 0.9869\n",
      "Epoch 14/20\n",
      "418/418 [==============================] - 2s 5ms/step - loss: 1.7560e-05 - accuracy: 0.9833 - val_loss: 2.2834e-05 - val_accuracy: 0.9838\n",
      "Epoch 15/20\n",
      "418/418 [==============================] - 2s 5ms/step - loss: 1.6678e-05 - accuracy: 0.9832 - val_loss: 1.4526e-05 - val_accuracy: 0.9861\n",
      "Epoch 16/20\n",
      "418/418 [==============================] - 2s 5ms/step - loss: 1.7107e-05 - accuracy: 0.9836 - val_loss: 1.9014e-05 - val_accuracy: 0.9810\n",
      "Epoch 17/20\n",
      "418/418 [==============================] - 2s 5ms/step - loss: 1.5739e-05 - accuracy: 0.9837 - val_loss: 1.2323e-05 - val_accuracy: 0.9874\n",
      "Epoch 18/20\n",
      "418/418 [==============================] - 2s 5ms/step - loss: 1.5512e-05 - accuracy: 0.9836 - val_loss: 2.6741e-05 - val_accuracy: 0.9656\n",
      "Epoch 19/20\n",
      "418/418 [==============================] - 2s 6ms/step - loss: 1.5044e-05 - accuracy: 0.9841 - val_loss: 2.5783e-05 - val_accuracy: 0.9847\n",
      "Epoch 20/20\n",
      "418/418 [==============================] - 2s 6ms/step - loss: 1.5240e-05 - accuracy: 0.9837 - val_loss: 1.9815e-05 - val_accuracy: 0.9803\n",
      "Model: \"autoencoder_11\"\n",
      "_________________________________________________________________\n",
      " Layer (type)                Output Shape              Param #   \n",
      "=================================================================\n",
      " sequential_22 (Sequential)  (None, 9)                 5001      \n",
      "                                                                 \n",
      " sequential_23 (Sequential)  (None, 3)                 4995      \n",
      "                                                                 \n",
      "=================================================================\n",
      "Total params: 9,996\n",
      "Trainable params: 9,996\n",
      "Non-trainable params: 0\n",
      "_________________________________________________________________\n"
     ]
    }
   ],
   "source": [
    "import tensorflow as tf\n",
    "from sklearn.metrics import accuracy_score, precision_score ,recall_score\n",
    "from tensorflow.keras import layers,losses\n",
    "from tensorflow.keras.models import Model\n",
    "from tensorflow.keras.losses import MeanSquaredError\n",
    "\n",
    "tf.random.set_seed(1)\n",
    "\n",
    "class Autoencoder(Model):\n",
    "    def __init__(self,latent_dim=9):\n",
    "        super(Autoencoder,self).__init__()\n",
    "        self.latent_dim=9\n",
    "        self.encoder=tf.keras.Sequential([\n",
    "            layers.Dense(64,activation=\"relu\"),\n",
    "            layers.Dense(64,activation=\"relu\"),\n",
    "            layers.Dense(latent_dim,activation=\"relu\")])\n",
    "        \n",
    "        self.decoder=tf.keras.Sequential([\n",
    "            layers.Dense(64,activation=\"relu\"),\n",
    "            layers.Dense(64,activation=\"relu\"),\n",
    "            layers.Dense(3,activation=\"sigmoid\")])\n",
    "        \n",
    "    def call(self,x):\n",
    "        encoded=self.encoder(x)\n",
    "        decoded=self.decoder(encoded)\n",
    "        return decoded\n",
    "\n",
    "autoencoder=Autoencoder()\n",
    "autoencoder.compile(loss='mse', optimizer='adam', metrics=['accuracy'])\n",
    "autoencoder.fit(final_training_features,final_training_features, \n",
    "                validation_data=(final_validation_features, final_validation_features), epochs=20, batch_size=1000)\n",
    "\n",
    "autoencoder.summary()\n"
   ]
  },
  {
   "cell_type": "code",
   "execution_count": 502,
   "metadata": {},
   "outputs": [
    {
     "name": "stdout",
     "output_type": "stream",
     "text": [
      "(417025, 9)\n",
      "(46480, 9)\n",
      "(417025, 12)\n",
      "(46480, 12)\n"
     ]
    }
   ],
   "source": [
    "x_training_encoded = autoencoder.encoder(final_training_features).numpy()\n",
    "x_vaidation_encoded = autoencoder.encoder(final_validation_features).numpy()\n",
    "\n",
    "print(x_training_encoded.shape)\n",
    "print(x_vaidation_encoded.shape)\n",
    "\n",
    "import numpy as np\n",
    "x_training_concat = np.concatenate((final_training_features, x_training_encoded), axis = 1)\n",
    "x_validation_concat = np.concatenate((final_validation_features, x_vaidation_encoded), axis = 1)\n",
    "\n",
    "print(x_training_concat.shape)\n",
    "print(x_validation_concat.shape)\n"
   ]
  },
  {
   "cell_type": "code",
   "execution_count": 503,
   "metadata": {},
   "outputs": [
    {
     "name": "stdout",
     "output_type": "stream",
     "text": [
      "2\n"
     ]
    }
   ],
   "source": [
    "def correlated_features(data,threshold):\n",
    "    corr_col=set()\n",
    "    confusion=data.corr()\n",
    "    for i in range(confusion.shape[0]):\n",
    "        for j in range(i): \n",
    "             if confusion.iloc[i,j]>threshold:\n",
    "                    corr_col.add(confusion.columns[i])\n",
    "    return corr_col\n",
    "\n",
    "pd_x_training_concat = pd.DataFrame (x_training_concat)\n",
    "pd_x_validation_concat = pd.DataFrame (x_validation_concat)\n",
    "\n",
    "corr_features= correlated_features(pd_x_training_concat , 0.9)\n",
    "print(len(corr_features))\n",
    "\n",
    "x_training_corr = pd_x_training_concat.drop(corr_features,axis=1)\n",
    "x_validation_corr = pd_x_validation_concat.drop(corr_features,axis=1)"
   ]
  },
  {
   "cell_type": "code",
   "execution_count": 504,
   "metadata": {},
   "outputs": [
    {
     "data": {
      "image/png": "[encoded data removed]",
      "text/plain": [
       "<Figure size 432x288 with 1 Axes>"
      ]
     },
     "metadata": {
      "needs_background": "light"
     },
     "output_type": "display_data"
    }
   ],
   "source": [
    "from sklearn.decomposition import PCA\n",
    "import matplotlib.pyplot as plt\n",
    "pca = PCA()\n",
    "pca.fit(x_training_corr)\n",
    "plt.figure()\n",
    "plt.plot(np.cumsum(pca.explained_variance_ratio_))\n",
    "plt.xlabel('Number of Components')\n",
    "plt.ylabel('Cumulative Explained Variance')  \n",
    "plt.title('Segmentation Dataset Explained Variance')\n",
    "plt.show(block=True)"
   ]
  },
  {
   "cell_type": "code",
   "execution_count": 505,
   "metadata": {},
   "outputs": [
    {
     "name": "stdout",
     "output_type": "stream",
     "text": [
      "(417025, 3)\n"
     ]
    }
   ],
   "source": [
    "pca = PCA(n_components=3)\n",
    "x_training_pca = pca.fit_transform(x_training_corr)\n",
    "x_validation_pca = pca.fit_transform(x_validation_corr)\n",
    "print(x_training_pca.shape)"
   ]
  },
  {
   "cell_type": "code",
   "execution_count": 506,
   "metadata": {},
   "outputs": [
    {
     "name": "stdout",
     "output_type": "stream",
     "text": [
      "3\n"
     ]
    }
   ],
   "source": [
    "final_training_features = torch.from_numpy(x_training_pca)\n",
    "final_validation_features = torch.from_numpy(x_validation_pca)"
   ]
  },
  {
   "cell_type": "markdown",
   "metadata": {},
   "source": [
    "#### Setting up and defining a neural network"
   ]
  },
  {
   "cell_type": "code",
   "execution_count": 514,
   "metadata": {},
   "outputs": [],
   "source": [
    "class Net(torch.nn.Module):\n",
    "    def __init__(self, input_size, hidden_sizes, n_output):\n",
    "        super(Net, self).__init__()\n",
    "        self.fc1 = torch.nn.Linear(input_size, hidden_sizes[0])\n",
    "        torch.nn.init.kaiming_normal_(self.fc1.weight) \n",
    "        self.fc2 = torch.nn.Linear(hidden_sizes[0], hidden_sizes[1])\n",
    "        torch.nn.init.kaiming_normal_(self.fc2.weight)\n",
    "        self.fc3 = torch.nn.Linear(hidden_sizes[1], hidden_sizes[2])\n",
    "        torch.nn.init.kaiming_normal_(self.fc3.weight)\n",
    "        self.fc4 = torch.nn.Linear(hidden_sizes[2], hidden_sizes[3])\n",
    "        torch.nn.init.kaiming_normal_(self.fc4.weight)\n",
    "        self.fc5 = torch.nn.Linear(hidden_sizes[3], hidden_sizes[4])\n",
    "        torch.nn.init.kaiming_normal_(self.fc5.weight)\n",
    "        self.fc6 = torch.nn.Linear(hidden_sizes[4], n_output)\n",
    "        torch.nn.init.kaiming_normal_(self.fc6.weight)\n",
    "        self.relu = torch.nn.ELU()\n",
    "        self.sigmoid = torch.nn.Sigmoid() \n",
    "        \n",
    "  \n",
    "    def forward(self, x):\n",
    "        out = self.relu(self.fc1(x))\n",
    "        out = self.relu(self.fc2(out))\n",
    "        out = self.relu(self.fc3(out))\n",
    "        out = self.relu(self.fc4(out))\n",
    "        out = self.relu(self.fc5(out))\n",
    "        x = self.sigmoid(self.fc6(out))\n",
    "        return x"
   ]
  },
  {
   "cell_type": "code",
   "execution_count": 515,
   "metadata": {},
   "outputs": [],
   "source": [
    "input_size = 3\n",
    "hidden_sizes = [15,15,15,15,15]\n",
    "n_output = 1\n",
    "torch.manual_seed(7)\n",
    "model = Net(input_size, hidden_sizes, n_output).to(device) \n",
    "optimizer = torch.optim.Adam(model.parameters(), lr = 1e-5)\n",
    "criterion = torch.nn.MSELoss()"
   ]
  },
  {
   "cell_type": "code",
   "execution_count": 516,
   "metadata": {
    "jupyter": {
     "outputs_hidden": true
    },
    "scrolled": true
   },
   "outputs": [
    {
     "name": "stdout",
     "output_type": "stream",
     "text": [
      "10 - L_tr=0.06345343589782715 L_val=0.023527109995484352\n",
      "20 - L_tr=0.006245095748454332 L_val=0.006716305855661631\n",
      "30 - L_tr=0.0019489217083901167 L_val=0.005392648279666901\n",
      "40 - L_tr=0.001204721280373633 L_val=0.0048143756575882435\n",
      "50 - L_tr=0.0009424234158359468 L_val=0.004489203914999962\n",
      "60 - L_tr=0.0008020081440918148 L_val=0.004296823870390654\n",
      "70 - L_tr=0.0007185242138803005 L_val=0.004168986808508635\n",
      "80 - L_tr=0.000667149608489126 L_val=0.00407362449914217\n",
      "90 - L_tr=0.0006338558159768581 L_val=0.00399733055382967\n",
      "100 - L_tr=0.0006103908526711166 L_val=0.00393557408824563\n",
      "110 - L_tr=0.0005926621961407363 L_val=0.0038921867962926626\n",
      "120 - L_tr=0.0005793801974505186 L_val=0.003869822481647134\n",
      "130 - L_tr=0.0005701353074982762 L_val=0.0038610976189374924\n",
      "140 - L_tr=0.0005641361349262297 L_val=0.003858401905745268\n",
      "150 - L_tr=0.0005602178862318397 L_val=0.0038577914237976074\n",
      "160 - L_tr=0.000557492021471262 L_val=0.003857832867652178\n",
      "170 - L_tr=0.0005554730305448174 L_val=0.003857766278088093\n",
      "180 - L_tr=0.0005539265112020075 L_val=0.003857085481286049\n",
      "190 - L_tr=0.000552723475266248 L_val=0.0038556826766580343\n",
      "200 - L_tr=0.0005517855752259493 L_val=0.003853745758533478\n"
     ]
    }
   ],
   "source": [
    "epochs=201\n",
    "validation_error=[]\n",
    "batch_extension = 1000\n",
    "n_batches = len(final_training_features) // batch_extension \n",
    "\n",
    "for epoch in range(epochs):\n",
    "    model.train()\n",
    "    for b in range(n_batches):\n",
    "            left = b*batch_extension\n",
    "            right = (b+1) * batch_extension  \n",
    "            optimizer.zero_grad()\n",
    "            prediction = model(final_training_features[left:right,:]) \n",
    "            loss = criterion(prediction, final_training_labels[left:right])\n",
    "            loss.backward() \n",
    "            optimizer.step() \n",
    "            \n",
    "    model.eval()\n",
    "    with torch.no_grad():\n",
    "        prediction_val = model(final_validation_features)\n",
    "    Validation_error = criterion(prediction_val, final_validation_labels)\n",
    "    validation_error.append(Validation_error.cpu().numpy())  \n",
    "    \n",
    "    if (epoch % 10 == 0 and epoch != 0):\n",
    "    \n",
    "        print(f'{epoch} - L_tr={loss.item()} L_val={Validation_error.item()}')\n",
    "np.savetxt('validation_error',validation_error)"
   ]
  },
  {
   "cell_type": "markdown",
   "metadata": {},
   "source": [
    "#### Neural network eficciency using MSE:"
   ]
  },
  {
   "cell_type": "code",
   "execution_count": 517,
   "metadata": {},
   "outputs": [
    {
     "data": {
      "text/plain": [
       "tensor(0.0039)"
      ]
     },
     "execution_count": 517,
     "metadata": {},
     "output_type": "execute_result"
    }
   ],
   "source": [
    "model.eval()\n",
    "with torch.no_grad():\n",
    "    prediction_NEURAL = model(final_validation_features)\n",
    "eff_NEURAL=torch.mean((prediction_NEURAL-final_validation_labels)**2)\n",
    "eff_NEURAL"
   ]
  },
  {
   "cell_type": "markdown",
   "metadata": {},
   "source": [
    "#### Improvement percentage"
   ]
  },
  {
   "cell_type": "code",
   "execution_count": 518,
   "metadata": {},
   "outputs": [
    {
     "name": "stdout",
     "output_type": "stream",
     "text": [
      "tensor(12.4385)\n"
     ]
    }
   ],
   "source": [
    "print((eff_ROLO - eff_NEURAL)*100/eff_ROLO)"
   ]
  },
  {
   "cell_type": "code",
   "execution_count": null,
   "metadata": {},
   "outputs": [],
   "source": []
  }
 ],
 "metadata": {
  "kernelspec": {
   "display_name": "Python 3",
   "language": "python",
   "name": "python3"
  },
  "language_info": {
   "codemirror_mode": {
    "name": "ipython",
    "version": 3
   },
   "file_extension": ".py",
   "mimetype": "text/x-python",
   "name": "python",
   "nbconvert_exporter": "python",
   "pygments_lexer": "ipython3",
   "version": "3.8.5"
  }
 },
 "nbformat": 4,
 "nbformat_minor": 4
}
